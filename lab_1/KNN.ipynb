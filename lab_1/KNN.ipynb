{
 "cells": [
  {
   "cell_type": "code",
   "execution_count": 37,
   "metadata": {},
   "outputs": [],
   "source": [
    "import pandas as pd\n",
    "import numpy as np\n",
    "import matplotlib.pyplot as plt\n",
    "import seaborn as sns\n",
    "\n",
    "from sklearn.preprocessing import StandardScaler\n",
    "from sklearn.neighbors import KNeighborsClassifier\n",
    "from sklearn.metrics import classification_report,confusion_matrix, accuracy_score\n",
    "from sklearn.model_selection import train_test_split"
   ]
  },
  {
   "cell_type": "markdown",
   "metadata": {},
   "source": [
    "### Reading [Water Quality](https://www.kaggle.com/datasets/mssmartypants/water-quality) dataset"
   ]
  },
  {
   "cell_type": "markdown",
   "metadata": {},
   "source": [
    "INITIALIZE DF (load data)"
   ]
  },
  {
   "cell_type": "code",
   "execution_count": 78,
   "metadata": {},
   "outputs": [
    {
     "data": {
      "text/html": [
       "<div>\n",
       "<style scoped>\n",
       "    .dataframe tbody tr th:only-of-type {\n",
       "        vertical-align: middle;\n",
       "    }\n",
       "\n",
       "    .dataframe tbody tr th {\n",
       "        vertical-align: top;\n",
       "    }\n",
       "\n",
       "    .dataframe thead th {\n",
       "        text-align: right;\n",
       "    }\n",
       "</style>\n",
       "<table border=\"1\" class=\"dataframe\">\n",
       "  <thead>\n",
       "    <tr style=\"text-align: right;\">\n",
       "      <th></th>\n",
       "      <th>aluminium</th>\n",
       "      <th>ammonia</th>\n",
       "      <th>arsenic</th>\n",
       "      <th>barium</th>\n",
       "      <th>cadmium</th>\n",
       "      <th>chloramine</th>\n",
       "      <th>chromium</th>\n",
       "      <th>copper</th>\n",
       "      <th>flouride</th>\n",
       "      <th>bacteria</th>\n",
       "      <th>...</th>\n",
       "      <th>lead</th>\n",
       "      <th>nitrates</th>\n",
       "      <th>nitrites</th>\n",
       "      <th>mercury</th>\n",
       "      <th>perchlorate</th>\n",
       "      <th>radium</th>\n",
       "      <th>selenium</th>\n",
       "      <th>silver</th>\n",
       "      <th>uranium</th>\n",
       "      <th>is_safe</th>\n",
       "    </tr>\n",
       "  </thead>\n",
       "  <tbody>\n",
       "    <tr>\n",
       "      <th>0</th>\n",
       "      <td>1.65</td>\n",
       "      <td>9.08</td>\n",
       "      <td>0.04</td>\n",
       "      <td>2.85</td>\n",
       "      <td>0.007</td>\n",
       "      <td>0.35</td>\n",
       "      <td>0.83</td>\n",
       "      <td>0.17</td>\n",
       "      <td>0.05</td>\n",
       "      <td>0.20</td>\n",
       "      <td>...</td>\n",
       "      <td>0.054</td>\n",
       "      <td>16.08</td>\n",
       "      <td>1.13</td>\n",
       "      <td>0.007</td>\n",
       "      <td>37.75</td>\n",
       "      <td>6.78</td>\n",
       "      <td>0.08</td>\n",
       "      <td>0.34</td>\n",
       "      <td>0.02</td>\n",
       "      <td>1</td>\n",
       "    </tr>\n",
       "    <tr>\n",
       "      <th>1</th>\n",
       "      <td>2.32</td>\n",
       "      <td>21.16</td>\n",
       "      <td>0.01</td>\n",
       "      <td>3.31</td>\n",
       "      <td>0.002</td>\n",
       "      <td>5.28</td>\n",
       "      <td>0.68</td>\n",
       "      <td>0.66</td>\n",
       "      <td>0.90</td>\n",
       "      <td>0.65</td>\n",
       "      <td>...</td>\n",
       "      <td>0.100</td>\n",
       "      <td>2.01</td>\n",
       "      <td>1.93</td>\n",
       "      <td>0.003</td>\n",
       "      <td>32.26</td>\n",
       "      <td>3.21</td>\n",
       "      <td>0.08</td>\n",
       "      <td>0.27</td>\n",
       "      <td>0.05</td>\n",
       "      <td>1</td>\n",
       "    </tr>\n",
       "    <tr>\n",
       "      <th>2</th>\n",
       "      <td>1.01</td>\n",
       "      <td>14.02</td>\n",
       "      <td>0.04</td>\n",
       "      <td>0.58</td>\n",
       "      <td>0.008</td>\n",
       "      <td>4.24</td>\n",
       "      <td>0.53</td>\n",
       "      <td>0.02</td>\n",
       "      <td>0.99</td>\n",
       "      <td>0.05</td>\n",
       "      <td>...</td>\n",
       "      <td>0.078</td>\n",
       "      <td>14.16</td>\n",
       "      <td>1.11</td>\n",
       "      <td>0.006</td>\n",
       "      <td>50.28</td>\n",
       "      <td>7.07</td>\n",
       "      <td>0.07</td>\n",
       "      <td>0.44</td>\n",
       "      <td>0.01</td>\n",
       "      <td>0</td>\n",
       "    </tr>\n",
       "    <tr>\n",
       "      <th>3</th>\n",
       "      <td>1.36</td>\n",
       "      <td>11.33</td>\n",
       "      <td>0.04</td>\n",
       "      <td>2.96</td>\n",
       "      <td>0.001</td>\n",
       "      <td>7.23</td>\n",
       "      <td>0.03</td>\n",
       "      <td>1.66</td>\n",
       "      <td>1.08</td>\n",
       "      <td>0.71</td>\n",
       "      <td>...</td>\n",
       "      <td>0.016</td>\n",
       "      <td>1.41</td>\n",
       "      <td>1.29</td>\n",
       "      <td>0.004</td>\n",
       "      <td>9.12</td>\n",
       "      <td>1.72</td>\n",
       "      <td>0.02</td>\n",
       "      <td>0.45</td>\n",
       "      <td>0.05</td>\n",
       "      <td>1</td>\n",
       "    </tr>\n",
       "    <tr>\n",
       "      <th>4</th>\n",
       "      <td>0.92</td>\n",
       "      <td>24.33</td>\n",
       "      <td>0.03</td>\n",
       "      <td>0.20</td>\n",
       "      <td>0.006</td>\n",
       "      <td>2.67</td>\n",
       "      <td>0.69</td>\n",
       "      <td>0.57</td>\n",
       "      <td>0.61</td>\n",
       "      <td>0.13</td>\n",
       "      <td>...</td>\n",
       "      <td>0.117</td>\n",
       "      <td>6.74</td>\n",
       "      <td>1.11</td>\n",
       "      <td>0.003</td>\n",
       "      <td>16.90</td>\n",
       "      <td>2.41</td>\n",
       "      <td>0.02</td>\n",
       "      <td>0.06</td>\n",
       "      <td>0.02</td>\n",
       "      <td>1</td>\n",
       "    </tr>\n",
       "  </tbody>\n",
       "</table>\n",
       "<p>5 rows × 21 columns</p>\n",
       "</div>"
      ],
      "text/plain": [
       "   aluminium ammonia  arsenic  barium  cadmium  chloramine  chromium  copper  \\\n",
       "0       1.65    9.08     0.04    2.85    0.007        0.35      0.83    0.17   \n",
       "1       2.32   21.16     0.01    3.31    0.002        5.28      0.68    0.66   \n",
       "2       1.01   14.02     0.04    0.58    0.008        4.24      0.53    0.02   \n",
       "3       1.36   11.33     0.04    2.96    0.001        7.23      0.03    1.66   \n",
       "4       0.92   24.33     0.03    0.20    0.006        2.67      0.69    0.57   \n",
       "\n",
       "   flouride  bacteria  ...   lead  nitrates  nitrites  mercury  perchlorate  \\\n",
       "0      0.05      0.20  ...  0.054     16.08      1.13    0.007        37.75   \n",
       "1      0.90      0.65  ...  0.100      2.01      1.93    0.003        32.26   \n",
       "2      0.99      0.05  ...  0.078     14.16      1.11    0.006        50.28   \n",
       "3      1.08      0.71  ...  0.016      1.41      1.29    0.004         9.12   \n",
       "4      0.61      0.13  ...  0.117      6.74      1.11    0.003        16.90   \n",
       "\n",
       "   radium  selenium  silver  uranium  is_safe  \n",
       "0    6.78      0.08    0.34     0.02        1  \n",
       "1    3.21      0.08    0.27     0.05        1  \n",
       "2    7.07      0.07    0.44     0.01        0  \n",
       "3    1.72      0.02    0.45     0.05        1  \n",
       "4    2.41      0.02    0.06     0.02        1  \n",
       "\n",
       "[5 rows x 21 columns]"
      ]
     },
     "execution_count": 78,
     "metadata": {},
     "output_type": "execute_result"
    }
   ],
   "source": [
    "data_df = pd.read_csv('waterQuality1.csv') #read csv\n",
    "data_df.head() #show first 5 rows of dataset"
   ]
  },
  {
   "cell_type": "code",
   "execution_count": 81,
   "metadata": {},
   "outputs": [
    {
     "name": "stdout",
     "output_type": "stream",
     "text": [
      "<class 'pandas.core.frame.DataFrame'>\n",
      "RangeIndex: 7999 entries, 0 to 7998\n",
      "Data columns (total 21 columns):\n",
      " #   Column       Non-Null Count  Dtype  \n",
      "---  ------       --------------  -----  \n",
      " 0   aluminium    7999 non-null   float64\n",
      " 1   ammonia      7999 non-null   object \n",
      " 2   arsenic      7999 non-null   float64\n",
      " 3   barium       7999 non-null   float64\n",
      " 4   cadmium      7999 non-null   float64\n",
      " 5   chloramine   7999 non-null   float64\n",
      " 6   chromium     7999 non-null   float64\n",
      " 7   copper       7999 non-null   float64\n",
      " 8   flouride     7999 non-null   float64\n",
      " 9   bacteria     7999 non-null   float64\n",
      " 10  viruses      7999 non-null   float64\n",
      " 11  lead         7999 non-null   float64\n",
      " 12  nitrates     7999 non-null   float64\n",
      " 13  nitrites     7999 non-null   float64\n",
      " 14  mercury      7999 non-null   float64\n",
      " 15  perchlorate  7999 non-null   float64\n",
      " 16  radium       7999 non-null   float64\n",
      " 17  selenium     7999 non-null   float64\n",
      " 18  silver       7999 non-null   float64\n",
      " 19  uranium      7999 non-null   float64\n",
      " 20  is_safe      7999 non-null   object \n",
      "dtypes: float64(19), object(2)\n",
      "memory usage: 1.3+ MB\n"
     ]
    }
   ],
   "source": [
    "data_df.info()"
   ]
  },
  {
   "cell_type": "markdown",
   "metadata": {},
   "source": [
    "##### Preprocessing Data of Water Quality"
   ]
  },
  {
   "cell_type": "code",
   "execution_count": 82,
   "metadata": {},
   "outputs": [
    {
     "data": {
      "text/plain": [
       "aluminium      0\n",
       "ammonia        0\n",
       "arsenic        0\n",
       "barium         0\n",
       "cadmium        0\n",
       "chloramine     0\n",
       "chromium       0\n",
       "copper         0\n",
       "flouride       0\n",
       "bacteria       0\n",
       "viruses        0\n",
       "lead           0\n",
       "nitrates       0\n",
       "nitrites       0\n",
       "mercury        0\n",
       "perchlorate    0\n",
       "radium         0\n",
       "selenium       0\n",
       "silver         0\n",
       "uranium        0\n",
       "is_safe        0\n",
       "dtype: int64"
      ]
     },
     "execution_count": 82,
     "metadata": {},
     "output_type": "execute_result"
    }
   ],
   "source": [
    "data_df.isnull().sum()"
   ]
  },
  {
   "cell_type": "code",
   "execution_count": 41,
   "metadata": {},
   "outputs": [
    {
     "data": {
      "text/plain": [
       "(7996, 21)"
      ]
     },
     "execution_count": 41,
     "metadata": {},
     "output_type": "execute_result"
    }
   ],
   "source": [
    "# Знайдемо рядки зі значенням \"#NUM!\" і видалимо їх з набору даних\n",
    "data_df = data_df[data_df != '#NUM!'].dropna()\n",
    "data_df.shape"
   ]
  },
  {
   "cell_type": "code",
   "execution_count": 42,
   "metadata": {},
   "outputs": [],
   "source": [
    "# Змінюємо тип даних стовпців 'ammonia' та 'is_safe' на стандартний для всіх float64\n",
    "data_df['ammonia'] = data_df['ammonia'].astype(float)\n",
    "data_df['is_safe'] = data_df['is_safe'].astype(float)"
   ]
  },
  {
   "cell_type": "code",
   "execution_count": 43,
   "metadata": {},
   "outputs": [
    {
     "name": "stdout",
     "output_type": "stream",
     "text": [
      "<class 'pandas.core.frame.DataFrame'>\n",
      "Int64Index: 7996 entries, 0 to 7998\n",
      "Data columns (total 21 columns):\n",
      " #   Column       Non-Null Count  Dtype  \n",
      "---  ------       --------------  -----  \n",
      " 0   aluminium    7996 non-null   float64\n",
      " 1   ammonia      7996 non-null   float64\n",
      " 2   arsenic      7996 non-null   float64\n",
      " 3   barium       7996 non-null   float64\n",
      " 4   cadmium      7996 non-null   float64\n",
      " 5   chloramine   7996 non-null   float64\n",
      " 6   chromium     7996 non-null   float64\n",
      " 7   copper       7996 non-null   float64\n",
      " 8   flouride     7996 non-null   float64\n",
      " 9   bacteria     7996 non-null   float64\n",
      " 10  viruses      7996 non-null   float64\n",
      " 11  lead         7996 non-null   float64\n",
      " 12  nitrates     7996 non-null   float64\n",
      " 13  nitrites     7996 non-null   float64\n",
      " 14  mercury      7996 non-null   float64\n",
      " 15  perchlorate  7996 non-null   float64\n",
      " 16  radium       7996 non-null   float64\n",
      " 17  selenium     7996 non-null   float64\n",
      " 18  silver       7996 non-null   float64\n",
      " 19  uranium      7996 non-null   float64\n",
      " 20  is_safe      7996 non-null   float64\n",
      "dtypes: float64(21)\n",
      "memory usage: 1.3 MB\n"
     ]
    }
   ],
   "source": [
    "data_df.info()"
   ]
  },
  {
   "cell_type": "markdown",
   "metadata": {},
   "source": [
    "#### Train Test Split"
   ]
  },
  {
   "cell_type": "code",
   "execution_count": 55,
   "metadata": {},
   "outputs": [],
   "source": [
    "X = data_df.drop(['is_safe'], axis = 1)\n",
    "y = data_df['is_safe']\n",
    "\n",
    "X_train, X_test, y_train, y_test = train_test_split(X, y, test_size=0.20)"
   ]
  },
  {
   "cell_type": "markdown",
   "metadata": {},
   "source": [
    "#### Standardize the Variables"
   ]
  },
  {
   "cell_type": "code",
   "execution_count": 56,
   "metadata": {},
   "outputs": [],
   "source": [
    "scaler = StandardScaler()"
   ]
  },
  {
   "cell_type": "code",
   "execution_count": 57,
   "metadata": {},
   "outputs": [
    {
     "data": {
      "text/html": [
       "<style>#sk-container-id-6 {color: black;background-color: white;}#sk-container-id-6 pre{padding: 0;}#sk-container-id-6 div.sk-toggleable {background-color: white;}#sk-container-id-6 label.sk-toggleable__label {cursor: pointer;display: block;width: 100%;margin-bottom: 0;padding: 0.3em;box-sizing: border-box;text-align: center;}#sk-container-id-6 label.sk-toggleable__label-arrow:before {content: \"▸\";float: left;margin-right: 0.25em;color: #696969;}#sk-container-id-6 label.sk-toggleable__label-arrow:hover:before {color: black;}#sk-container-id-6 div.sk-estimator:hover label.sk-toggleable__label-arrow:before {color: black;}#sk-container-id-6 div.sk-toggleable__content {max-height: 0;max-width: 0;overflow: hidden;text-align: left;background-color: #f0f8ff;}#sk-container-id-6 div.sk-toggleable__content pre {margin: 0.2em;color: black;border-radius: 0.25em;background-color: #f0f8ff;}#sk-container-id-6 input.sk-toggleable__control:checked~div.sk-toggleable__content {max-height: 200px;max-width: 100%;overflow: auto;}#sk-container-id-6 input.sk-toggleable__control:checked~label.sk-toggleable__label-arrow:before {content: \"▾\";}#sk-container-id-6 div.sk-estimator input.sk-toggleable__control:checked~label.sk-toggleable__label {background-color: #d4ebff;}#sk-container-id-6 div.sk-label input.sk-toggleable__control:checked~label.sk-toggleable__label {background-color: #d4ebff;}#sk-container-id-6 input.sk-hidden--visually {border: 0;clip: rect(1px 1px 1px 1px);clip: rect(1px, 1px, 1px, 1px);height: 1px;margin: -1px;overflow: hidden;padding: 0;position: absolute;width: 1px;}#sk-container-id-6 div.sk-estimator {font-family: monospace;background-color: #f0f8ff;border: 1px dotted black;border-radius: 0.25em;box-sizing: border-box;margin-bottom: 0.5em;}#sk-container-id-6 div.sk-estimator:hover {background-color: #d4ebff;}#sk-container-id-6 div.sk-parallel-item::after {content: \"\";width: 100%;border-bottom: 1px solid gray;flex-grow: 1;}#sk-container-id-6 div.sk-label:hover label.sk-toggleable__label {background-color: #d4ebff;}#sk-container-id-6 div.sk-serial::before {content: \"\";position: absolute;border-left: 1px solid gray;box-sizing: border-box;top: 0;bottom: 0;left: 50%;z-index: 0;}#sk-container-id-6 div.sk-serial {display: flex;flex-direction: column;align-items: center;background-color: white;padding-right: 0.2em;padding-left: 0.2em;position: relative;}#sk-container-id-6 div.sk-item {position: relative;z-index: 1;}#sk-container-id-6 div.sk-parallel {display: flex;align-items: stretch;justify-content: center;background-color: white;position: relative;}#sk-container-id-6 div.sk-item::before, #sk-container-id-6 div.sk-parallel-item::before {content: \"\";position: absolute;border-left: 1px solid gray;box-sizing: border-box;top: 0;bottom: 0;left: 50%;z-index: -1;}#sk-container-id-6 div.sk-parallel-item {display: flex;flex-direction: column;z-index: 1;position: relative;background-color: white;}#sk-container-id-6 div.sk-parallel-item:first-child::after {align-self: flex-end;width: 50%;}#sk-container-id-6 div.sk-parallel-item:last-child::after {align-self: flex-start;width: 50%;}#sk-container-id-6 div.sk-parallel-item:only-child::after {width: 0;}#sk-container-id-6 div.sk-dashed-wrapped {border: 1px dashed gray;margin: 0 0.4em 0.5em 0.4em;box-sizing: border-box;padding-bottom: 0.4em;background-color: white;}#sk-container-id-6 div.sk-label label {font-family: monospace;font-weight: bold;display: inline-block;line-height: 1.2em;}#sk-container-id-6 div.sk-label-container {text-align: center;}#sk-container-id-6 div.sk-container {/* jupyter's `normalize.less` sets `[hidden] { display: none; }` but bootstrap.min.css set `[hidden] { display: none !important; }` so we also need the `!important` here to be able to override the default hidden behavior on the sphinx rendered scikit-learn.org. See: https://github.com/scikit-learn/scikit-learn/issues/21755 */display: inline-block !important;position: relative;}#sk-container-id-6 div.sk-text-repr-fallback {display: none;}</style><div id=\"sk-container-id-6\" class=\"sk-top-container\"><div class=\"sk-text-repr-fallback\"><pre>StandardScaler()</pre><b>In a Jupyter environment, please rerun this cell to show the HTML representation or trust the notebook. <br />On GitHub, the HTML representation is unable to render, please try loading this page with nbviewer.org.</b></div><div class=\"sk-container\" hidden><div class=\"sk-item\"><div class=\"sk-estimator sk-toggleable\"><input class=\"sk-toggleable__control sk-hidden--visually\" id=\"sk-estimator-id-6\" type=\"checkbox\" checked><label for=\"sk-estimator-id-6\" class=\"sk-toggleable__label sk-toggleable__label-arrow\">StandardScaler</label><div class=\"sk-toggleable__content\"><pre>StandardScaler()</pre></div></div></div></div></div>"
      ],
      "text/plain": [
       "StandardScaler()"
      ]
     },
     "execution_count": 57,
     "metadata": {},
     "output_type": "execute_result"
    }
   ],
   "source": [
    "scaler.fit(X_train)"
   ]
  },
  {
   "cell_type": "code",
   "execution_count": 58,
   "metadata": {},
   "outputs": [],
   "source": [
    "scaled_X_train = scaler.transform(X_train) \n",
    "scaled_X_test = scaler.transform(X_test) "
   ]
  },
  {
   "cell_type": "markdown",
   "metadata": {},
   "source": [
    "#### KNN model"
   ]
  },
  {
   "cell_type": "code",
   "execution_count": 59,
   "metadata": {},
   "outputs": [],
   "source": [
    "knn = KNeighborsClassifier(n_neighbors=5)"
   ]
  },
  {
   "cell_type": "code",
   "execution_count": 60,
   "metadata": {},
   "outputs": [
    {
     "data": {
      "text/html": [
       "<style>#sk-container-id-7 {color: black;background-color: white;}#sk-container-id-7 pre{padding: 0;}#sk-container-id-7 div.sk-toggleable {background-color: white;}#sk-container-id-7 label.sk-toggleable__label {cursor: pointer;display: block;width: 100%;margin-bottom: 0;padding: 0.3em;box-sizing: border-box;text-align: center;}#sk-container-id-7 label.sk-toggleable__label-arrow:before {content: \"▸\";float: left;margin-right: 0.25em;color: #696969;}#sk-container-id-7 label.sk-toggleable__label-arrow:hover:before {color: black;}#sk-container-id-7 div.sk-estimator:hover label.sk-toggleable__label-arrow:before {color: black;}#sk-container-id-7 div.sk-toggleable__content {max-height: 0;max-width: 0;overflow: hidden;text-align: left;background-color: #f0f8ff;}#sk-container-id-7 div.sk-toggleable__content pre {margin: 0.2em;color: black;border-radius: 0.25em;background-color: #f0f8ff;}#sk-container-id-7 input.sk-toggleable__control:checked~div.sk-toggleable__content {max-height: 200px;max-width: 100%;overflow: auto;}#sk-container-id-7 input.sk-toggleable__control:checked~label.sk-toggleable__label-arrow:before {content: \"▾\";}#sk-container-id-7 div.sk-estimator input.sk-toggleable__control:checked~label.sk-toggleable__label {background-color: #d4ebff;}#sk-container-id-7 div.sk-label input.sk-toggleable__control:checked~label.sk-toggleable__label {background-color: #d4ebff;}#sk-container-id-7 input.sk-hidden--visually {border: 0;clip: rect(1px 1px 1px 1px);clip: rect(1px, 1px, 1px, 1px);height: 1px;margin: -1px;overflow: hidden;padding: 0;position: absolute;width: 1px;}#sk-container-id-7 div.sk-estimator {font-family: monospace;background-color: #f0f8ff;border: 1px dotted black;border-radius: 0.25em;box-sizing: border-box;margin-bottom: 0.5em;}#sk-container-id-7 div.sk-estimator:hover {background-color: #d4ebff;}#sk-container-id-7 div.sk-parallel-item::after {content: \"\";width: 100%;border-bottom: 1px solid gray;flex-grow: 1;}#sk-container-id-7 div.sk-label:hover label.sk-toggleable__label {background-color: #d4ebff;}#sk-container-id-7 div.sk-serial::before {content: \"\";position: absolute;border-left: 1px solid gray;box-sizing: border-box;top: 0;bottom: 0;left: 50%;z-index: 0;}#sk-container-id-7 div.sk-serial {display: flex;flex-direction: column;align-items: center;background-color: white;padding-right: 0.2em;padding-left: 0.2em;position: relative;}#sk-container-id-7 div.sk-item {position: relative;z-index: 1;}#sk-container-id-7 div.sk-parallel {display: flex;align-items: stretch;justify-content: center;background-color: white;position: relative;}#sk-container-id-7 div.sk-item::before, #sk-container-id-7 div.sk-parallel-item::before {content: \"\";position: absolute;border-left: 1px solid gray;box-sizing: border-box;top: 0;bottom: 0;left: 50%;z-index: -1;}#sk-container-id-7 div.sk-parallel-item {display: flex;flex-direction: column;z-index: 1;position: relative;background-color: white;}#sk-container-id-7 div.sk-parallel-item:first-child::after {align-self: flex-end;width: 50%;}#sk-container-id-7 div.sk-parallel-item:last-child::after {align-self: flex-start;width: 50%;}#sk-container-id-7 div.sk-parallel-item:only-child::after {width: 0;}#sk-container-id-7 div.sk-dashed-wrapped {border: 1px dashed gray;margin: 0 0.4em 0.5em 0.4em;box-sizing: border-box;padding-bottom: 0.4em;background-color: white;}#sk-container-id-7 div.sk-label label {font-family: monospace;font-weight: bold;display: inline-block;line-height: 1.2em;}#sk-container-id-7 div.sk-label-container {text-align: center;}#sk-container-id-7 div.sk-container {/* jupyter's `normalize.less` sets `[hidden] { display: none; }` but bootstrap.min.css set `[hidden] { display: none !important; }` so we also need the `!important` here to be able to override the default hidden behavior on the sphinx rendered scikit-learn.org. See: https://github.com/scikit-learn/scikit-learn/issues/21755 */display: inline-block !important;position: relative;}#sk-container-id-7 div.sk-text-repr-fallback {display: none;}</style><div id=\"sk-container-id-7\" class=\"sk-top-container\"><div class=\"sk-text-repr-fallback\"><pre>KNeighborsClassifier()</pre><b>In a Jupyter environment, please rerun this cell to show the HTML representation or trust the notebook. <br />On GitHub, the HTML representation is unable to render, please try loading this page with nbviewer.org.</b></div><div class=\"sk-container\" hidden><div class=\"sk-item\"><div class=\"sk-estimator sk-toggleable\"><input class=\"sk-toggleable__control sk-hidden--visually\" id=\"sk-estimator-id-7\" type=\"checkbox\" checked><label for=\"sk-estimator-id-7\" class=\"sk-toggleable__label sk-toggleable__label-arrow\">KNeighborsClassifier</label><div class=\"sk-toggleable__content\"><pre>KNeighborsClassifier()</pre></div></div></div></div></div>"
      ],
      "text/plain": [
       "KNeighborsClassifier()"
      ]
     },
     "execution_count": 60,
     "metadata": {},
     "output_type": "execute_result"
    }
   ],
   "source": [
    "knn.fit(scaled_X_train, y_train)"
   ]
  },
  {
   "cell_type": "code",
   "execution_count": 61,
   "metadata": {},
   "outputs": [],
   "source": [
    "pred = knn.predict(scaled_X_test)"
   ]
  },
  {
   "cell_type": "markdown",
   "metadata": {},
   "source": [
    "#### Evaluation"
   ]
  },
  {
   "cell_type": "code",
   "execution_count": 83,
   "metadata": {},
   "outputs": [
    {
     "name": "stdout",
     "output_type": "stream",
     "text": [
      "[[1403   21]\n",
      " [ 103   73]]\n"
     ]
    }
   ],
   "source": [
    "print(confusion_matrix(y_test,pred))"
   ]
  },
  {
   "cell_type": "markdown",
   "metadata": {},
   "source": [
    "* LeftTop - кількість True Negatives (TN). Вказує на кількість прикладів, які були правильно класифіковані як негативні (клас 0). <br>\n",
    "\n",
    "* RightTop - кількість False Positives (FP). Вказує на кількість прикладів, які були неправильно класифіковані як позитивні (клас 1), коли насправді вони належать до класу 0. <br>\n",
    "\n",
    "* LeftDown - кількість False Negatives (FN). Вказує на кількість прикладів, які були неправильно класифіковані як негативні (клас 0), коли насправді вони належать до класу 1. <br>\n",
    "\n",
    "* RightDown - кількість True Positives (TP). Вказує на кількість прикладів, які були правильно класифіковані як позитивні (клас 1). <br>\n",
    "\n",
    "На основі отриманих даних можемо обчислити різні метрики класифікації, такі як точність, чутливість, специфічність, F1-показник та інші, щоб оцінити якість нашої моделі класифікації."
   ]
  },
  {
   "cell_type": "code",
   "execution_count": 65,
   "metadata": {},
   "outputs": [
    {
     "name": "stdout",
     "output_type": "stream",
     "text": [
      "              precision    recall  f1-score   support\n",
      "\n",
      "         0.0       0.93      0.98      0.96      1424\n",
      "         1.0       0.73      0.41      0.53       176\n",
      "\n",
      "    accuracy                           0.92      1600\n",
      "   macro avg       0.83      0.70      0.74      1600\n",
      "weighted avg       0.91      0.92      0.91      1600\n",
      "\n"
     ]
    }
   ],
   "source": [
    "print(classification_report(y_test,pred))"
   ]
  },
  {
   "cell_type": "markdown",
   "metadata": {},
   "source": [
    "Precision (точність):  \n",
    "* при 0.0 - %TP, вказує на низьку\\високу точність, модель має низьку\\високу кількість хибно позитивних. <br>\n",
    "* при 1.0 - %TP, вказує на те, що модель має менше\\більше хибно позитивних для цього класу. <br>\n",
    "\n",
    "Recall (чутливість): \n",
    "* при 0.0 - %TP, вказує на низьку\\високу чутливість моделі для класу 0.0.\n",
    "* при 1.0 - %TP, вказує на меншу\\більшу чутливість для класу 1.0.\n",
    "\n",
    "F1-Score (F1-показник) є гармонічним середнім точності та чутливості:\n",
    "* при 0.0 - вказує на погану\\добру якість моделі для класу 0.0.\n",
    "* при 1.0 - вказує на те, що модель може бути менш\\більш ефективною у класифікації цього класу.\n",
    "\n",
    "Support: кількість прикладів у кожному класі у тестовому наборі даних.\n",
    "\n",
    "Accuracy (точність): загальна точність моделі, яка вказує на те, наскільки часто модель правильно класифікує приклади.\n",
    "\n",
    "Macro Avg: середнє значення метрик для всіх класів. В нашому випадку, середнє значення точності, чутливості і F1-показника для всіх класів.\n",
    "\n",
    "Weighted Avg: середнє значення метрик для всіх класів, де кожен клас зважується на підтримку (кількість прикладів) відповідного класу."
   ]
  },
  {
   "cell_type": "code",
   "execution_count": 66,
   "metadata": {},
   "outputs": [
    {
     "name": "stdout",
     "output_type": "stream",
     "text": [
      "0.91875\n"
     ]
    }
   ],
   "source": [
    "print(accuracy_score(y_test,pred)) #відсоток правильних класифікацій"
   ]
  },
  {
   "cell_type": "markdown",
   "metadata": {},
   "source": [
    "Choosing a K Value"
   ]
  },
  {
   "cell_type": "code",
   "execution_count": 67,
   "metadata": {},
   "outputs": [],
   "source": [
    "error_rate = []\n",
    "\n",
    "for i in range(1,30):\n",
    "    knn = KNeighborsClassifier(n_neighbors=i)\n",
    "    knn.fit(scaled_X_train,y_train)\n",
    "    pred_i = knn.predict(scaled_X_test)\n",
    "    error_rate.append(np.mean(pred_i != y_test))"
   ]
  },
  {
   "cell_type": "code",
   "execution_count": 68,
   "metadata": {},
   "outputs": [
    {
     "data": {
      "image/png": "[encoded data removed]",
      "text/plain": [
       "<Figure size 1000x600 with 1 Axes>"
      ]
     },
     "metadata": {},
     "output_type": "display_data"
    }
   ],
   "source": [
    "plt.figure(figsize=(10,6))\n",
    "plt.plot(range(1,30), error_rate, marker='o', markersize=10)\n",
    "plt.title('Error Rate vs. K Value')\n",
    "plt.xlabel('K')\n",
    "plt.ylabel('Error Rate')\n",
    "plt.grid()"
   ]
  },
  {
   "cell_type": "markdown",
   "metadata": {},
   "source": [
    "На графіку бачимо, як помилка змінюється при різних значеннях k. Оберемо те значення k, яке дає найкращий результат. Зазвичай, оптимальне k обирається на основі критерію мінімізації помилки, тобто те k, при якому помилка досягає свого мінімуму на графіку. В нашому випадку оптимальне значення k = 7."
   ]
  },
  {
   "cell_type": "code",
   "execution_count": 74,
   "metadata": {},
   "outputs": [
    {
     "name": "stdout",
     "output_type": "stream",
     "text": [
      "[[1403   21]\n",
      " [ 103   73]]\n",
      "\n",
      "              precision    recall  f1-score   support\n",
      "\n",
      "         0.0       0.93      0.99      0.96      1424\n",
      "         1.0       0.78      0.41      0.54       176\n",
      "\n",
      "    accuracy                           0.92      1600\n",
      "   macro avg       0.85      0.70      0.75      1600\n",
      "weighted avg       0.91      0.92      0.91      1600\n",
      "\n"
     ]
    }
   ],
   "source": [
    "knn = KNeighborsClassifier(n_neighbors=7)\n",
    "\n",
    "knn.fit(scaled_X_train,y_train)\n",
    "pred = knn.predict(scaled_X_test)\n",
    "\n",
    "print(confusion_matrix(y_test,pred))\n",
    "print()\n",
    "print(classification_report(y_test,pred))"
   ]
  }
 ],
 "metadata": {
  "kernelspec": {
   "display_name": "Python 3",
   "language": "python",
   "name": "python3"
  },
  "language_info": {
   "codemirror_mode": {
    "name": "ipython",
    "version": 3
   },
   "file_extension": ".py",
   "mimetype": "text/x-python",
   "name": "python",
   "nbconvert_exporter": "python",
   "pygments_lexer": "ipython3",
   "version": "3.10.0"
  },
  "orig_nbformat": 4
 },
 "nbformat": 4,
 "nbformat_minor": 2
}
